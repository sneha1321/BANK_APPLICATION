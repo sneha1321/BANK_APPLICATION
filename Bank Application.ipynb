{
 "cells": [
  {
   "cell_type": "code",
   "execution_count": 1,
   "id": "a0345deb",
   "metadata": {},
   "outputs": [],
   "source": [
    "data = {1001:['ram', 'Hesoy@M1', 2000, 'kjghskjfskjf'], 1002:['sachin', 'Sachin@123', 10000, 'skjfhwiurhskjf']}"
   ]
  },
  {
   "cell_type": "code",
   "execution_count": null,
   "id": "690e18a8",
   "metadata": {},
   "outputs": [],
   "source": []
  },
  {
   "cell_type": "code",
   "execution_count": 2,
   "id": "d23ecfa8",
   "metadata": {},
   "outputs": [],
   "source": [
    "from getpass import getpass\n",
    "\n",
    "def password_validate(password):\n",
    "    lower = 0\n",
    "    upper = 0\n",
    "    digit = 0\n",
    "    special = 0\n",
    "    \n",
    "    for i in password:\n",
    "        if i.isupper():\n",
    "            upper += 1\n",
    "        elif i.islower():\n",
    "            lower += 1\n",
    "        elif i.isdigit():\n",
    "            digit += 1\n",
    "        elif not i.isidentifier():\n",
    "            special += 1\n",
    "        \n",
    "    if lower >= 1 and upper >= 1 and digit >= 1 and special >= 1 and len(password) >= 8:\n",
    "        return True\n",
    "    else:\n",
    "        return False\n",
    "        \n",
    "def signup():\n",
    "    user_name = input('Enter your name: ')\n",
    "    password = getpass('Enter your password: ')\n",
    "    security_code = getpass('Enter security code: ')\n",
    "    \n",
    "    if password_validate(password):\n",
    "        print('Initial amount of 2000 is required to open your account...')\n",
    "        print('If you are agree press (y) otherwise (n)...')\n",
    "        choice = input('Enter your choice: ')\n",
    "        if choice == 'y':\n",
    "            acc_no = list(data.keys())[-1] + 1\n",
    "            balance = 2000\n",
    "            data[acc_no] = [user_name, password, balance,security_code]\n",
    "            print('Account is created successfully...')\n",
    "            print('Your account no is', acc_no)\n",
    "        else:\n",
    "            print('Initial amount is required. you can not create account here.')\n",
    "    else:\n",
    "        print('Password is not valid..')\n",
    "        \n",
    "        \n",
    "def login():\n",
    "    acc_no = int(input('Enter account no: '))\n",
    "    password = getpass('Enter password: ')\n",
    "    if acc_no in data.keys() and password == data[acc_no][1]:\n",
    "        print('Login Successfully...')\n",
    "        while True:\n",
    "            \n",
    "            print('1.Credit')\n",
    "            print('2.Debit')\n",
    "            print('3.Change Password')\n",
    "            print('4.Check Balance')\n",
    "            print('5.Logout')\n",
    "            \n",
    "            choice = int(input('Enter your choice: '))\n",
    "            if choice == 1:\n",
    "                amount = int(input('Enter credit amount: '))\n",
    "                data[acc_no][2] += amount\n",
    "                print('Amount credited successfully...')\n",
    "            elif choice == 2:\n",
    "                amount = int(input('Enter credit amount: '))\n",
    "                if data[acc_no][2] - amount >= 2000:\n",
    "                    data[acc_no][2] -= amount\n",
    "                    print('Amount Debited successfully...')\n",
    "                else:\n",
    "                    print('Not Enough Balance...')\n",
    "            elif choice == 3:\n",
    "                old_password = getpass('Enter old password: ')\n",
    "                if old_password == data[acc_no][1]:\n",
    "                    new_password = getpass('Enter new password: ')\n",
    "                    if password_validate(new_password):\n",
    "                        data[acc_no][1] = new_password\n",
    "                        print('Password changed successfully...')\n",
    "                    else:\n",
    "                        print('Enter a valid password...')\n",
    "                else:\n",
    "                    print('Password is not matched...')\n",
    "            elif choice == 4:\n",
    "                balance = data[acc_no][2]\n",
    "                print('Your balance is: ', balance)\n",
    "            elif choice == 5:\n",
    "                break\n",
    "        \n",
    "    else:\n",
    "        print('Account no. or Passsword is not valid')\n",
    "        \n",
    "def forget_password():\n",
    "    acc_no = int(input('Enter your account no: '))\n",
    "    security_code = getpass('Enter your security code to recover your account: ')\n",
    "    if acc_no in data.keys() and security_code == data[acc_no][3]:\n",
    "        password = data[acc_no][1]\n",
    "        print('Your password is: ', password)\n",
    "    else:\n",
    "        print(\"Account no or Security code doesn't match...\")\n",
    "        \n",
    "        "
   ]
  },
  {
   "cell_type": "code",
   "execution_count": 3,
   "id": "9c0f3cec",
   "metadata": {},
   "outputs": [
    {
     "name": "stdout",
     "output_type": "stream",
     "text": [
      "1. Login\n",
      "2. Signup\n",
      "3. Forgot Password\n",
      "4. Exit\n",
      "Enter your choice: 3\n",
      "Enter your account no: 1001\n",
      "Enter your security code to recover your account: ········\n",
      "Account no or Security code doesn't match...\n",
      "1. Login\n",
      "2. Signup\n",
      "3. Forgot Password\n",
      "4. Exit\n",
      "Enter your choice: 3\n",
      "Enter your account no: 1001\n",
      "Enter your security code to recover your account: ········\n",
      "Your password is:  Hesoy@M1\n",
      "1. Login\n",
      "2. Signup\n",
      "3. Forgot Password\n",
      "4. Exit\n",
      "Enter your choice: 4\n"
     ]
    }
   ],
   "source": [
    "while True:\n",
    "    \n",
    "    print('1. Login')\n",
    "    print('2. Signup')\n",
    "    print('3. Forgot Password')\n",
    "    print('4. Exit')\n",
    "    \n",
    "    choice = int(input('Enter your choice: '))\n",
    "    if choice == 1:\n",
    "        login()\n",
    "    elif choice == 2:\n",
    "        signup()\n",
    "    elif choice == 3:\n",
    "        forget_password()\n",
    "    elif choice == 4:\n",
    "        break"
   ]
  },
  {
   "cell_type": "code",
   "execution_count": null,
   "id": "ee7bf2f5",
   "metadata": {},
   "outputs": [],
   "source": []
  },
  {
   "cell_type": "code",
   "execution_count": 5,
   "id": "85b228ff",
   "metadata": {},
   "outputs": [
    {
     "data": {
      "text/plain": [
       "{1001: ['ram', 'Hesoy@M1', 2000, 'kjghskjfskjf'],\n",
       " 1002: ['sachin', 'Sachin@123', 10000, 'skjfhwiurhskjf']}"
      ]
     },
     "execution_count": 5,
     "metadata": {},
     "output_type": "execute_result"
    }
   ],
   "source": [
    "data"
   ]
  },
  {
   "cell_type": "code",
   "execution_count": null,
   "id": "0841e5bb",
   "metadata": {},
   "outputs": [],
   "source": []
  }
 ],
 "metadata": {
  "kernelspec": {
   "display_name": "Python 3 (ipykernel)",
   "language": "python",
   "name": "python3"
  },
  "language_info": {
   "codemirror_mode": {
    "name": "ipython",
    "version": 3
   },
   "file_extension": ".py",
   "mimetype": "text/x-python",
   "name": "python",
   "nbconvert_exporter": "python",
   "pygments_lexer": "ipython3",
   "version": "3.10.9"
  }
 },
 "nbformat": 4,
 "nbformat_minor": 5
}
